{
 "cells": [
  {
   "cell_type": "markdown",
   "id": "49f3d57f",
   "metadata": {},
   "source": [
    "# LASER LOCK"
   ]
  },
  {
   "cell_type": "code",
   "execution_count": 1,
   "id": "57d00b3a",
   "metadata": {},
   "outputs": [],
   "source": [
    "# import libraries for devices\n",
    "import time, datetime, csv\n",
    "from pathlib import Path\n",
    "from ipywidgets import interact\n",
    "\n",
    "# import libraries for plotting etc\n",
    "import matplotlib.pyplot as plt\n",
    "import numpy as np \n",
    "\n",
    "%matplotlib inline"
   ]
  },
  {
   "cell_type": "markdown",
   "id": "cedb380f",
   "metadata": {},
   "source": [
    "## 1. Connect to the RedPitaya\n",
    "\n",
    "- The config file should already have all the modules opened up, otherwise open them and set all the values accordingly ( see labNotes...)\n",
    "- Start ramping with the full range of 1 V such that you do not miss the signal"
   ]
  },
  {
   "cell_type": "code",
   "execution_count": 2,
   "id": "0f1caa6f",
   "metadata": {},
   "outputs": [
    {
     "name": "stderr",
     "output_type": "stream",
     "text": [
      "INFO:pyrpl:All your PyRPL settings will be saved to the config file\n",
      "    C:\\Users\\NaKaControl\\pyrpl_user_dir\\config\\111.yml\n",
      "If you would like to restart PyRPL with these settings, type \"pyrpl.exe 111\" in a windows terminal or \n",
      "    from pyrpl import Pyrpl\n",
      "    p = Pyrpl('111')\n",
      "in a python terminal.\n",
      "INFO:pyrpl.redpitaya:Successfully connected to Redpitaya with hostname 10.0.2.111.\n",
      "WARNING:pyrpl.modules:Register pause_gains of module pid0 has value 7, which does not correspond to selected option 0. Setting to 'off'. \n"
     ]
    }
   ],
   "source": [
    "import pyrpl\n",
    "p = pyrpl.Pyrpl(hostname=\"10.0.2.111\", config=\"111.yml\"); r = p.rp"
   ]
  },
  {
   "cell_type": "code",
   "execution_count": 2,
   "id": "d1fc32e1",
   "metadata": {},
   "outputs": [],
   "source": [
    "# shortcut to save data\n",
    "def save_data(data, timestamp, device):\n",
    "    full_path = Path(Path.home().as_posix()+'/Dropbox (CoQuMa)/LabNotes/NaKa/'+timestamp[:7]+'/'+timestamp[:10]+'/data')\n",
    "    try :\n",
    "        full_path.mkdir(parents=True, exist_ok=True)\n",
    "    except FileExistsError :\n",
    "        print('already exists!')\n",
    "        full_path = Path(Path.cwd().as_posix()+'/data')\n",
    "                        \n",
    "    with open(str(full_path)+'\\\\' + device + '_'+timestamp[:10]+'.csv', 'a', newline='', encoding='UTF8') as f:\n",
    "        writer = csv.writer(f)\n",
    "        writer.writerow(data)"
   ]
  },
  {
   "cell_type": "code",
   "execution_count": 16,
   "id": "2b2d127e",
   "metadata": {},
   "outputs": [
    {
     "name": "stdout",
     "output_type": "stream",
     "text": [
      "['2022-02-17 11:35:50', -0.246, -0.0, 0.0, -1.75]]]\r"
     ]
    },
    {
     "name": "stderr",
     "output_type": "stream",
     "text": [
      "ERROR:pyrpl.redpitaya_client:Error occured in reading attempt 0. Reconnecting at addr 0x40300100 to _reads value 1 by client 6\n"
     ]
    },
    {
     "name": "stdout",
     "output_type": "stream",
     "text": [
      "['2022-02-17 12:11:50', -0.279, -0.0, 0.0, -1.75]]]\r"
     ]
    },
    {
     "ename": "KeyboardInterrupt",
     "evalue": "",
     "output_type": "error",
     "traceback": [
      "\u001b[1;31m---------------------------------------------------------------------------\u001b[0m",
      "\u001b[1;31mKeyboardInterrupt\u001b[0m                         Traceback (most recent call last)",
      "\u001b[1;32m<ipython-input-16-48876de36596>\u001b[0m in \u001b[0;36m<module>\u001b[1;34m\u001b[0m\n\u001b[0;32m     17\u001b[0m         \u001b[0mtrigger\u001b[0m \u001b[1;33m=\u001b[0m \u001b[1;32mFalse\u001b[0m\u001b[1;33m\u001b[0m\u001b[1;33m\u001b[0m\u001b[0m\n\u001b[0;32m     18\u001b[0m \u001b[1;33m\u001b[0m\u001b[0m\n\u001b[1;32m---> 19\u001b[1;33m     \u001b[0mtime\u001b[0m\u001b[1;33m.\u001b[0m\u001b[0msleep\u001b[0m\u001b[1;33m(\u001b[0m\u001b[1;36m5\u001b[0m\u001b[1;33m)\u001b[0m\u001b[1;33m\u001b[0m\u001b[1;33m\u001b[0m\u001b[0m\n\u001b[0m",
      "\u001b[1;31mKeyboardInterrupt\u001b[0m: "
     ]
    }
   ],
   "source": [
    "# just keep track of the lock...\n",
    "moku = np.round(i.read_power_supply(1)['set_voltage'],3)\n",
    "trigger = True\n",
    "\n",
    "while True:\n",
    "    now = datetime.datetime.now()\n",
    "    timestamp = now.strftime(\"%Y-%m-%d %H:%M:%S\")\n",
    "    \n",
    "    data = [ timestamp, np.round(r.pid0.ival,3), np.round(r.scope.voltage_in2,3), np.round(r.pid0.setpoint,3), moku ]\n",
    "    \n",
    "    save_data(data, timestamp, 'lock')\n",
    "    print(data, end='\\r')\n",
    "    \n",
    "    if (-0.99 >= r.scope.voltage_in1 or 0.99 <= r.scope.voltage_in1) and trigger :\n",
    "        print('Out of lock!')\n",
    "        alert(timestamp)\n",
    "        trigger = False\n",
    "        \n",
    "    time.sleep(5)"
   ]
  },
  {
   "cell_type": "markdown",
   "id": "1a444fea",
   "metadata": {},
   "source": [
    "## 2. Connect to the Moku:GO\n",
    "- It may be, that the moku is already inizialized and won't respond. In that case, clear all connections first and then retry"
   ]
  },
  {
   "cell_type": "code",
   "execution_count": 3,
   "id": "ec223b29",
   "metadata": {},
   "outputs": [],
   "source": [
    "from moku.instruments import Oscilloscope"
   ]
  },
  {
   "cell_type": "markdown",
   "id": "975c385f",
   "metadata": {},
   "source": [
    "## 3. Find a good offset for the ramping"
   ]
  },
  {
   "cell_type": "code",
   "execution_count": 4,
   "id": "137237e9",
   "metadata": {},
   "outputs": [
    {
     "data": {
      "text/plain": [
       "[{'id': 1,\n",
       "  'enabled': True,\n",
       "  'current_range': [0, 0.15],\n",
       "  'voltage_range': [-5, 5],\n",
       "  'set_voltage': -1.75048828125,\n",
       "  'set_current': 0.1495258935083881,\n",
       "  'actual_voltage': -0.05550000000000033,\n",
       "  'actual_current': -0.003452758789062482,\n",
       "  'constant_current_mode': True,\n",
       "  'constant_voltage_mode': False},\n",
       " {'id': 2,\n",
       "  'enabled': True,\n",
       "  'current_range': [0, 0.15],\n",
       "  'voltage_range': [0, 16],\n",
       "  'set_voltage': 10.2001953125,\n",
       "  'set_current': 0.00364697301239976,\n",
       "  'actual_voltage': 0.016,\n",
       "  'actual_current': -9.1552734375e-05,\n",
       "  'constant_current_mode': True,\n",
       "  'constant_voltage_mode': False},\n",
       " {'id': 3,\n",
       "  'enabled': False,\n",
       "  'current_range': [0.07, 1],\n",
       "  'voltage_range': [0.6, 5],\n",
       "  'set_voltage': 0.6996367045587719,\n",
       "  'set_current': 1,\n",
       "  'actual_voltage': 0.7000000000000001,\n",
       "  'actual_current': 0.000885009765625,\n",
       "  'constant_current_mode': False,\n",
       "  'constant_voltage_mode': True},\n",
       " {'id': 4,\n",
       "  'enabled': False,\n",
       "  'current_range': [0.07, 1],\n",
       "  'voltage_range': [0.6, 5],\n",
       "  'set_voltage': 0.6996367045587719,\n",
       "  'set_current': 1,\n",
       "  'actual_voltage': 0.7000000000000001,\n",
       "  'actual_current': 0.001190185546875,\n",
       "  'constant_current_mode': False,\n",
       "  'constant_voltage_mode': True}]"
      ]
     },
     "execution_count": 4,
     "metadata": {},
     "output_type": "execute_result"
    }
   ],
   "source": [
    "i = Oscilloscope('10.0.2.110', force_connect=True)\n",
    "\n",
    "# Here you can access the available_power_supplies function\n",
    "i.available_power_supplies()\n",
    "\n",
    "# We usually have to set the ramping off by about 2 V...\n",
    "#_ = i.set_power_supply(1, enable=True, voltage=-1.75, current=0.15)\n",
    "#_ = i.set_power_supply(2, enable=True, voltage=10.2, current=0)\n",
    "# print(np.round(i.read_power_supply(1)['set_voltage'],3))\n",
    "#i.relinquish_ownership()"
   ]
  },
  {
   "cell_type": "markdown",
   "id": "8d9c763b",
   "metadata": {},
   "source": [
    "## 4. Zoom in unto the CO-resonance\n",
    "- Decrease the amplitude of the ramping while adjusting the offset given by the Moku:GO such that the resonance stays in the center of the slope"
   ]
  },
  {
   "cell_type": "markdown",
   "id": "ca7083ea",
   "metadata": {},
   "source": [
    "## 5. Actual locking\n",
    "- Turn on the fast ( 10 kHz ) modulation via the coil. Check for the iq output\n",
    "- Set the setpoint of the PID, turn of the ramp and forward the PID output to the laser ( out 1 )"
   ]
  },
  {
   "cell_type": "markdown",
   "id": "b6228ab3",
   "metadata": {},
   "source": [
    "Enjoy your lock!"
   ]
  },
  {
   "cell_type": "markdown",
   "id": "8f79fe9b",
   "metadata": {},
   "source": [
    "# APPENDIX"
   ]
  },
  {
   "cell_type": "markdown",
   "id": "8249ff22",
   "metadata": {},
   "source": [
    "## Arm the Slackbot"
   ]
  },
  {
   "cell_type": "code",
   "execution_count": 5,
   "id": "a077198f",
   "metadata": {},
   "outputs": [],
   "source": [
    "import requests, json, os\n",
    "from requests.exceptions import HTTPError\n",
    "from urllib.parse import parse_qs\n",
    "from dotenv import load_dotenv\n",
    "\n",
    "# Load environment variables\n",
    "load_dotenv()\n",
    "\n",
    "bot_token = os.getenv(\"SLACKBOT_TOKEN\")\n",
    "\n",
    "def alert(time):\n",
    "    channel_id = \"C02F1MWPLM7\" # naka_laserlock channel\n",
    "    url = \"https://slack.com/api/chat.postMessage\"\n",
    "    payload = {\n",
    "        \"channel\": \"C02F1MWPLM7\",\n",
    "        #\"text\": \"\",\n",
    "        \"attachments\": [{\n",
    "            \"text\": \":fire: ALERT!!! \\n The laser is out of lock! (\" + time + \")\",\n",
    "            \"color\": \"#ad1721\",\n",
    "            \"attachment_type\": \"default\",\n",
    "            \"actions\": [{\n",
    "                \"name\": \"Take me there!\",\n",
    "                \"text\": \"Take me there!\",\n",
    "                \"type\": \"button\",\n",
    "                \"style\": \"primary\",\n",
    "                \"url\": \"https://hydra.kip.uni-heidelberg.de:8443/f21server/#\",\n",
    "                },\n",
    "                {\n",
    "                \"name\": \"I don't care.\",\n",
    "                \"text\": \"I don't care.\",\n",
    "                \"type\": \"button\",\n",
    "                \"style\": \"danger\",\n",
    "                \"url\": \"https://media.tenor.co/images/dd7ce8ef69ccfe64aa3ad4d173390c66/tenor.gif\"\n",
    "                }]\n",
    "        }]\n",
    "    }\n",
    "    headers = { \n",
    "        \"Content-type\" : \"application/json\",\n",
    "        \"Authorization\" : \"Bearer \" + bot_token,\n",
    "    }\n",
    "    \n",
    "    try:\n",
    "        r = requests.post(url, json=payload, headers=headers)\n",
    "        r.raise_for_status()\n",
    "        print(json.dumps(json.loads(r.text), indent=4))\n",
    "        #for ch in r.json()['channels']:\n",
    "        #\tprint(ch['name'] + '---' + ch['id'])\n",
    "    except HTTPError as http_err:\n",
    "        print(str(http_err)) \n",
    "    except Exception as err:\n",
    "        print(str(err))\n",
    "    else:\n",
    "        print('Message send!')"
   ]
  },
  {
   "cell_type": "code",
   "execution_count": 6,
   "id": "05ab48a2",
   "metadata": {},
   "outputs": [
    {
     "name": "stdout",
     "output_type": "stream",
     "text": [
      "HTTPSConnectionPool(host='slack.com', port=443): Max retries exceeded with url: /api/chat.postMessage (Caused by NewConnectionError('<urllib3.connection.HTTPSConnection object at 0x000001C60960D2E0>: Failed to establish a new connection: [Errno 11002] getaddrinfo failed'))\n"
     ]
    }
   ],
   "source": [
    "alert('lol')"
   ]
  }
 ],
 "metadata": {
  "kernelspec": {
   "display_name": "Python 3",
   "language": "python",
   "name": "python3"
  },
  "language_info": {
   "codemirror_mode": {
    "name": "ipython",
    "version": 3
   },
   "file_extension": ".py",
   "mimetype": "text/x-python",
   "name": "python",
   "nbconvert_exporter": "python",
   "pygments_lexer": "ipython3",
   "version": "3.9.7"
  }
 },
 "nbformat": 4,
 "nbformat_minor": 5
}
